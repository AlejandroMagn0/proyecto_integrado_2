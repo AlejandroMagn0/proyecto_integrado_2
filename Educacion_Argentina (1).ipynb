{
  "nbformat": 4,
  "nbformat_minor": 0,
  "metadata": {
    "colab": {
      "private_outputs": true,
      "provenance": []
    },
    "kernelspec": {
      "name": "python3",
      "display_name": "Python 3"
    },
    "language_info": {
      "name": "python"
    }
  },
  "cells": [
    {
      "cell_type": "code",
      "execution_count": null,
      "metadata": {
        "id": "ExCnShzZ4DC6"
      },
      "outputs": [],
      "source": [
        "# prompt: crear un dataframe de al menos 100 filas con datos random con apellido y nombre, nro_dni, materias de educacion nivel secundario de la argentina que contenga las siguientes columnas: materia escolar, nota 1er Trimestre, nota 2do Trimestre, nota 3er Trimestre, Faltas a clases.\n",
        "\n",
        "import pandas as pd\n",
        "import numpy as np\n",
        "import random\n",
        "\n",
        "# Lista de materias de nivel secundario en Argentina\n",
        "materias = [\"Matemática\", \"Lengua y Literatura\", \"Historia\", \"Geografía\", \"Ciencias Naturales\", \"Educación Física\", \"Inglés\", \"Física\", \"Química\", \"Biología\", \"Filosofía\", \"Ciudadanía y Participación\", \"Arte\", \"Música\", \"Educación Tecnológica\"]\n",
        "\n",
        "# Crear un DataFrame vacío\n",
        "df = pd.DataFrame(columns=[\"Apellido\", \"Nombre\", \"nro_dni\", \"materia escolar\", \"nota 1er Trimestre\", \"nota 2do Trimestre\", \"nota 3er Trimestre\", \"Faltas a clases\"])\n",
        "\n",
        "# Generar 100 filas de datos aleatorios\n",
        "for i in range(100):\n",
        "  apellido = f\"Apellido_{i}\"\n",
        "  nombre = f\"Nombre_{i}\"\n",
        "  dni = random.randint(10000000, 99999999)\n",
        "  materia = random.choice(materias)\n",
        "  nota1 = random.randint(1, 10)\n",
        "  nota2 = random.randint(1, 10)\n",
        "  nota3 = random.randint(1, 10)\n",
        "  faltas = random.randint(0, 20)\n",
        "\n",
        "  # Agregar una nueva fila al DataFrame\n",
        "  df.loc[i] = [apellido, nombre, dni, materia, nota1, nota2, nota3, faltas]\n",
        "\n",
        "# Mostrar el DataFrame\n",
        "df"
      ]
    },
    {
      "cell_type": "markdown",
      "source": [],
      "metadata": {
        "id": "CGGulOuU4k5A"
      }
    },
    {
      "cell_type": "code",
      "source": [
        "# prompt: Armar grafico de barras con Promedio general de cada materia, ordenados de mayor a menor, agregar las faltas como valor constrastable en dos ejes. Agregar las leyendas que ayuden a la interpretación.\n",
        "\n",
        "import matplotlib.pyplot as plt\n",
        "\n",
        "# Calcular el promedio de cada materia\n",
        "promedios_por_materia = df.groupby('materia escolar')[['nota 1er Trimestre', 'nota 2do Trimestre', 'nota 3er Trimestre']].mean().mean(axis=1)\n",
        "\n",
        "# Ordenar los promedios de mayor a menor\n",
        "promedios_ordenados = promedios_por_materia.sort_values(ascending=False)\n",
        "\n",
        "# Calcular la cantidad total de faltas por materia\n",
        "faltas_por_materia = df.groupby('materia escolar')['Faltas a clases'].sum()\n",
        "\n",
        "# Crear el gráfico de barras\n",
        "fig, ax1 = plt.subplots(figsize=(12, 6))\n",
        "\n",
        "# Barras para los promedios\n",
        "ax1.bar(promedios_ordenados.index, promedios_ordenados.values, color='skyblue')\n",
        "ax1.set_xlabel('Materia', fontsize=12)\n",
        "ax1.set_ylabel('Promedio General', color='skyblue', fontsize=12)\n",
        "ax1.tick_params(axis='y', labelcolor='skyblue')\n",
        "ax1.set_title('Promedio General de Materias y Faltas', fontsize=14)\n",
        "plt.xticks(rotation=45, ha=\"right\")\n",
        "\n",
        "\n",
        "# Segundo eje para las faltas\n",
        "ax2 = ax1.twinx()\n",
        "ax2.plot(faltas_por_materia.index, faltas_por_materia.values, color='red', marker='o', linestyle='-')\n",
        "ax2.set_ylabel('Cantidad de Faltas', color='red', fontsize=12)\n",
        "ax2.tick_params(axis='y', labelcolor='red')\n",
        "\n",
        "# Agregar leyendas\n",
        "fig.tight_layout()\n",
        "plt.legend(['Faltas'], loc='upper left')\n",
        "\n",
        "\n",
        "# Mostrar el gráfico\n",
        "plt.show()"
      ],
      "metadata": {
        "id": "eXLRG8-X4lXB"
      },
      "execution_count": null,
      "outputs": []
    },
    {
      "cell_type": "code",
      "source": [
        "# prompt: CREAR UN BOTON PARA DESCARGAR EL DATAFRAME CREADO CON SUS DATOS EN FORMATO CSV\n",
        "\n",
        "import pandas as pd\n",
        "import numpy as np\n",
        "import random\n",
        "import matplotlib.pyplot as plt\n",
        "from google.colab import files\n",
        "\n",
        "# ... (Your existing code for DataFrame creation and plotting)\n",
        "\n",
        "# Button to download the DataFrame as a CSV file\n",
        "from IPython.display import HTML\n",
        "\n",
        "def create_download_link(df, title = \"Download CSV file\", filename = \"data.csv\"):\n",
        "  csv = df.to_csv(index=False)\n",
        "  b64 = base64.b64encode(csv.encode())\n",
        "  payload = b64.decode()\n",
        "  html = '<a download=\"{filename}\" href=\"data:text/csv;base64,{payload}\" target=\"_blank\">{title}</a>'\n",
        "  html = html.format(payload=payload,title=title,filename=filename)\n",
        "  return HTML(html)\n",
        "\n",
        "import base64\n",
        "\n",
        "create_download_link(df)"
      ],
      "metadata": {
        "id": "JkEMnqX04xFd"
      },
      "execution_count": null,
      "outputs": []
    }
  ]
}